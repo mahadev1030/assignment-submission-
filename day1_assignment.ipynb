{
  "nbformat": 4,
  "nbformat_minor": 0,
  "metadata": {
    "colab": {
      "name": "day1 assignment.ipynb",
      "provenance": [],
      "authorship_tag": "ABX9TyNj4VOUhWF/T2PhamiReMxb",
      "include_colab_link": true
    },
    "kernelspec": {
      "name": "python3",
      "display_name": "Python 3"
    },
    "language_info": {
      "name": "python"
    }
  },
  "cells": [
    {
      "cell_type": "markdown",
      "metadata": {
        "id": "view-in-github",
        "colab_type": "text"
      },
      "source": [
        "<a href=\"https://colab.research.google.com/github/mahadev1030/assignment-submission-/blob/main/day1_assignment.ipynb\" target=\"_parent\"><img src=\"https://colab.research.google.com/assets/colab-badge.svg\" alt=\"Open In Colab\"/></a>"
      ]
    },
    {
      "cell_type": "code",
      "execution_count": 1,
      "metadata": {
        "colab": {
          "base_uri": "https://localhost:8080/"
        },
        "id": "u3509_Q7-ZAi",
        "outputId": "45fdb954-5272-4bfc-8651-0521e322d094"
      },
      "outputs": [
        {
          "output_type": "stream",
          "name": "stdout",
          "text": [
            "Enter the values: 10 20 30\n",
            "The sum of all Number is: 60\n"
          ]
        }
      ],
      "source": [
        "# Take multiple number as input and print sum.\n",
        "num = [int(i) for i in input(\"Enter the values: \").split()]\n",
        "total = 0\n",
        "for add in num:\n",
        "    total += add\n",
        "print(f\"The sum of all Number is: {total}\")"
      ]
    }
  ]
}