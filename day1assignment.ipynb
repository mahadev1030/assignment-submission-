{
  "nbformat": 4,
  "nbformat_minor": 0,
  "metadata": {
    "colab": {
      "name": "python22.ipynb",
      "provenance": [],
      "authorship_tag": "ABX9TyMKPTaZvbQt0aa0jLrpXlXr",
      "include_colab_link": true
    },
    "kernelspec": {
      "name": "python3",
      "display_name": "Python 3"
    },
    "language_info": {
      "name": "python"
    }
  },
  "cells": [
    {
      "cell_type": "markdown",
      "metadata": {
        "id": "view-in-github",
        "colab_type": "text"
      },
      "source": [
        "<a href=\"https://colab.research.google.com/github/mahadev1030/assignment-submission-/blob/main/day1assignment.ipynb\" target=\"_parent\"><img src=\"https://colab.research.google.com/assets/colab-badge.svg\" alt=\"Open In Colab\"/></a>"
      ]
    },
    {
      "cell_type": "code",
      "execution_count": null,
      "metadata": {
        "id": "k1bCjjFleiU3",
        "colab": {
          "base_uri": "https://localhost:8080/"
        },
        "outputId": "93f7d770-85ed-40ae-c575-b2531a1a637e"
      },
      "outputs": [
        {
          "output_type": "stream",
          "name": "stdout",
          "text": [
            "hello world\n"
          ]
        }
      ],
      "source": [
        "print(\"hello world\")"
      ]
    },
    {
      "cell_type": "code",
      "source": [
        "print(\"heloo\")\n",
        "print(\"world\")"
      ],
      "metadata": {
        "id": "ap5EZlWgfXVj",
        "colab": {
          "base_uri": "https://localhost:8080/"
        },
        "outputId": "5e163127-6e2e-45c4-e49f-8bc12450e521"
      },
      "execution_count": null,
      "outputs": [
        {
          "output_type": "stream",
          "name": "stdout",
          "text": [
            "heloo\n",
            "world\n"
          ]
        }
      ]
    },
    {
      "cell_type": "code",
      "source": [
        "print(\"hello\",end='')\n",
        "print(\"world\")"
      ],
      "metadata": {
        "colab": {
          "base_uri": "https://localhost:8080/"
        },
        "id": "CGQiB41DhmFW",
        "outputId": "30e4fe87-421e-4d7d-fd56-c7aa20e5cc3b"
      },
      "execution_count": null,
      "outputs": [
        {
          "output_type": "stream",
          "name": "stdout",
          "text": [
            "helloworld\n"
          ]
        }
      ]
    },
    {
      "cell_type": "code",
      "source": [
        "print(\"hello\",\"coders\")"
      ],
      "metadata": {
        "colab": {
          "base_uri": "https://localhost:8080/"
        },
        "id": "qMABmktGhxFt",
        "outputId": "dc021eec-7e74-4712-9481-139c0e32fb1f"
      },
      "execution_count": null,
      "outputs": [
        {
          "output_type": "stream",
          "name": "stdout",
          "text": [
            "hello coders\n"
          ]
        }
      ]
    },
    {
      "cell_type": "code",
      "source": [
        "#variable creation\n",
        "#dynamically typed language\n",
        "x=25\n",
        "print(type(x))"
      ],
      "metadata": {
        "colab": {
          "base_uri": "https://localhost:8080/"
        },
        "id": "EZNKkHmBh5LK",
        "outputId": "2a51a4a0-f54b-4045-a5db-148ca82a19d9"
      },
      "execution_count": null,
      "outputs": [
        {
          "output_type": "stream",
          "name": "stdout",
          "text": [
            "<class 'int'>\n"
          ]
        }
      ]
    },
    {
      "cell_type": "code",
      "source": [
        "x=25.6\n",
        "print(type(x))"
      ],
      "metadata": {
        "colab": {
          "base_uri": "https://localhost:8080/"
        },
        "id": "mlbF4ooKio0C",
        "outputId": "cc441638-5ecd-431c-ddd2-9d50059e7155"
      },
      "execution_count": null,
      "outputs": [
        {
          "output_type": "stream",
          "name": "stdout",
          "text": [
            "<class 'float'>\n"
          ]
        }
      ]
    },
    {
      "cell_type": "code",
      "source": [
        "x=\"mahadev\"\n",
        "print(type(x))"
      ],
      "metadata": {
        "colab": {
          "base_uri": "https://localhost:8080/"
        },
        "id": "9wY9avBGitna",
        "outputId": "ed546bd5-c327-4af5-8a65-0f8f4579414b"
      },
      "execution_count": null,
      "outputs": [
        {
          "output_type": "stream",
          "name": "stdout",
          "text": [
            "<class 'str'>\n"
          ]
        }
      ]
    },
    {
      "cell_type": "code",
      "source": [
        "x=True\n",
        "print(type(x))"
      ],
      "metadata": {
        "colab": {
          "base_uri": "https://localhost:8080/"
        },
        "id": "xCMaOcoui1ky",
        "outputId": "c359de4d-bc97-402b-cabb-c811bc513507"
      },
      "execution_count": null,
      "outputs": [
        {
          "output_type": "stream",
          "name": "stdout",
          "text": [
            "<class 'bool'>\n"
          ]
        }
      ]
    },
    {
      "cell_type": "code",
      "source": [
        "x=2+6j\n",
        "print(type(x))"
      ],
      "metadata": {
        "colab": {
          "base_uri": "https://localhost:8080/"
        },
        "id": "-Jab1icGlMzV",
        "outputId": "7f2f4198-c726-4f95-a7e4-a580dd6d2905"
      },
      "execution_count": null,
      "outputs": [
        {
          "output_type": "stream",
          "name": "stdout",
          "text": [
            "<class 'complex'>\n"
          ]
        }
      ]
    },
    {
      "cell_type": "code",
      "source": [
        "a=b=c=10\n",
        "print(a,b,c)"
      ],
      "metadata": {
        "colab": {
          "base_uri": "https://localhost:8080/"
        },
        "id": "5skatgVPlTmT",
        "outputId": "06fe83b3-55ab-4ebc-cbb7-22374295fc64"
      },
      "execution_count": null,
      "outputs": [
        {
          "output_type": "stream",
          "name": "stdout",
          "text": [
            "10 10 10\n"
          ]
        }
      ]
    },
    {
      "cell_type": "code",
      "source": [
        "a,b,c=10,20,30\n",
        "print(a,b,c)"
      ],
      "metadata": {
        "colab": {
          "base_uri": "https://localhost:8080/"
        },
        "id": "U-EUzCpnl75z",
        "outputId": "ad3bc352-2bcf-4cc0-b784-b4e0f1d73b03"
      },
      "execution_count": null,
      "outputs": [
        {
          "output_type": "stream",
          "name": "stdout",
          "text": [
            "10 20 30\n"
          ]
        }
      ]
    },
    {
      "cell_type": "code",
      "source": [
        "a=b=c=20\n",
        "print(id(a))"
      ],
      "metadata": {
        "colab": {
          "base_uri": "https://localhost:8080/"
        },
        "id": "zZIofcxBmFFq",
        "outputId": "f33cbe86-adfc-4fda-ee09-49826f930d67"
      },
      "execution_count": null,
      "outputs": [
        {
          "output_type": "stream",
          "name": "stdout",
          "text": [
            "94524167601248\n"
          ]
        }
      ]
    },
    {
      "cell_type": "code",
      "source": [
        "a=b=f=10\n",
        "print(id(a))\n",
        "print(id(f))\n",
        "\n",
        "b=90\n",
        "print(id(b))"
      ],
      "metadata": {
        "colab": {
          "base_uri": "https://localhost:8080/"
        },
        "id": "JobO-87RmebD",
        "outputId": "0900461c-6a12-4fed-fa3d-38f298aa4185"
      },
      "execution_count": null,
      "outputs": [
        {
          "output_type": "stream",
          "name": "stdout",
          "text": [
            "94524167600928\n",
            "94524167600928\n",
            "94524167603488\n"
          ]
        }
      ]
    },
    {
      "cell_type": "code",
      "source": [
        "c=input(\"enter c value:-\")\n",
        "print(c)"
      ],
      "metadata": {
        "colab": {
          "base_uri": "https://localhost:8080/"
        },
        "id": "G8s-iVy0oa89",
        "outputId": "4600e5f8-0130-46c0-bd83-ccd5ce183517"
      },
      "execution_count": null,
      "outputs": [
        {
          "output_type": "stream",
          "name": "stdout",
          "text": [
            "enter c value:-25\n",
            "25\n"
          ]
        }
      ]
    },
    {
      "cell_type": "code",
      "source": [
        "a=int(input(\"enter a value:-\"))\n",
        "b=int(input(\"enter b value:-\"))\n",
        "print(\"sum:-\",a+b)"
      ],
      "metadata": {
        "colab": {
          "base_uri": "https://localhost:8080/"
        },
        "id": "XCD-At7OowK7",
        "outputId": "947b0141-6150-43e6-e744-738d6b329155"
      },
      "execution_count": null,
      "outputs": [
        {
          "output_type": "stream",
          "name": "stdout",
          "text": [
            "enter a value:-10\n",
            "enter b value:-25\n",
            "sum:- 35\n"
          ]
        }
      ]
    },
    {
      "cell_type": "code",
      "source": [
        "#multiple values as a input\n",
        "x=input(\"enter the values:-\")\n",
        "print(x)\n",
        "print(type(x))"
      ],
      "metadata": {
        "colab": {
          "base_uri": "https://localhost:8080/"
        },
        "id": "53axR_oFp717",
        "outputId": "31cec0df-5bd5-4a97-9545-0ba82a4770c2"
      },
      "execution_count": null,
      "outputs": [
        {
          "output_type": "stream",
          "name": "stdout",
          "text": [
            "enter the values:-10 20 52 62 85\n",
            "10 20 52 62 85\n",
            "<class 'str'>\n"
          ]
        }
      ]
    },
    {
      "cell_type": "code",
      "source": [
        "x=input(\"enter the values\")\n",
        "print(x.split())"
      ],
      "metadata": {
        "colab": {
          "base_uri": "https://localhost:8080/"
        },
        "id": "h_XmG6krqjKF",
        "outputId": "652b4946-f451-4ae8-ce3f-7c02a168294c"
      },
      "execution_count": null,
      "outputs": [
        {
          "output_type": "stream",
          "name": "stdout",
          "text": [
            "enter the values10 20 30 40 50\n",
            "['10', '20', '30', '40', '50']\n"
          ]
        }
      ]
    }
  ]
}